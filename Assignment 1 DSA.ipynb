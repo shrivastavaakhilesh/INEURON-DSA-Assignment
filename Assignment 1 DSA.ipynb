{
 "cells": [
  {
   "cell_type": "markdown",
   "id": "d9b1e77b",
   "metadata": {},
   "source": [
    "Q.1. Write a Python program to reverse a string without using any built-in string reversal functions."
   ]
  },
  {
   "cell_type": "code",
   "execution_count": 1,
   "id": "f328e19a",
   "metadata": {},
   "outputs": [
    {
     "name": "stdout",
     "output_type": "stream",
     "text": [
      "avatsavirhS hselihkA si eman yM\n"
     ]
    }
   ],
   "source": [
    "in_str = \"My name is Akhilesh Shrivastava\"\n",
    "print(in_str[::-1])"
   ]
  },
  {
   "cell_type": "markdown",
   "id": "267ce7e9",
   "metadata": {},
   "source": [
    "Q.2. Implement a function to check if a given string is a palindrome."
   ]
  },
  {
   "cell_type": "code",
   "execution_count": 2,
   "id": "7abe2e8f",
   "metadata": {},
   "outputs": [
    {
     "name": "stdout",
     "output_type": "stream",
     "text": [
      "Rayen is not palindrome\n"
     ]
    }
   ],
   "source": [
    "def check_palindrome(in_str):\n",
    "  out_str = in_str[::-1]\n",
    "  if in_str == out_str:\n",
    "    print(in_str,\"is palindrome\")\n",
    "  else:\n",
    "\n",
    "    print(in_str,'is not palindrome')\n",
    "check_palindrome('Rayen')"
   ]
  },
  {
   "cell_type": "markdown",
   "id": "3bcb1d73",
   "metadata": {},
   "source": [
    "Q.3. Write a program to find the largest element in a given list.\n",
    "\n"
   ]
  },
  {
   "cell_type": "code",
   "execution_count": 3,
   "id": "5394cc2d",
   "metadata": {},
   "outputs": [
    {
     "name": "stdout",
     "output_type": "stream",
     "text": [
      "98\n"
     ]
    }
   ],
   "source": [
    "in_list = [5,98,0,3,4,23,56]\n",
    "for i in in_list:\n",
    "  if i==max(in_list):\n",
    "    print(i)"
   ]
  },
  {
   "cell_type": "markdown",
   "id": "edf0cbd9",
   "metadata": {},
   "source": [
    "Q.4. Implement a function to count the occurrence of each element in a list."
   ]
  },
  {
   "cell_type": "code",
   "execution_count": 4,
   "id": "6b0d6ba3",
   "metadata": {},
   "outputs": [
    {
     "name": "stdout",
     "output_type": "stream",
     "text": [
      "{2: 2, 3: 1, 4: 1, 5: 1}\n"
     ]
    }
   ],
   "source": [
    "def count_elem(in_list):\n",
    "    d = {}\n",
    "    for i in set(in_list):\n",
    "        d[i] = in_list.count(i)\n",
    "    print(d)\n",
    "\n",
    "count_elem([2, 4, 5, 2, 3])"
   ]
  },
  {
   "cell_type": "markdown",
   "id": "cfa5340b",
   "metadata": {},
   "source": [
    "Q.5. Write a Python program to find the second largest number in a list."
   ]
  },
  {
   "cell_type": "code",
   "execution_count": 5,
   "id": "cd3e0a2c",
   "metadata": {},
   "outputs": [
    {
     "name": "stdout",
     "output_type": "stream",
     "text": [
      "78\n"
     ]
    }
   ],
   "source": [
    "in_list = [7,2,0,45,32,78,34,87]\n",
    "print(sorted(in_list)[-2])\n",
    "     "
   ]
  },
  {
   "cell_type": "markdown",
   "id": "0303774a",
   "metadata": {},
   "source": [
    "Q.6. Implement a function to remove duplicate elements from a list."
   ]
  },
  {
   "cell_type": "code",
   "execution_count": 7,
   "id": "bcca3e96",
   "metadata": {},
   "outputs": [
    {
     "data": {
      "text/plain": [
       "[2, 3, 4, 5, 7, 8, 9]"
      ]
     },
     "execution_count": 7,
     "metadata": {},
     "output_type": "execute_result"
    }
   ],
   "source": [
    "def remove_dup(in_list):\n",
    "  return list(set(in_list))\n",
    "remove_dup([4,8,3,4,7,9,2,5,4,8])"
   ]
  },
  {
   "cell_type": "markdown",
   "id": "02dbe289",
   "metadata": {},
   "source": [
    "Q.7. Write a program to calculate the factorial of a given number."
   ]
  },
  {
   "cell_type": "code",
   "execution_count": 9,
   "id": "be9f6eb5",
   "metadata": {},
   "outputs": [
    {
     "data": {
      "text/plain": [
       "120"
      ]
     },
     "execution_count": 9,
     "metadata": {},
     "output_type": "execute_result"
    }
   ],
   "source": [
    "def fact_of_num(n):\n",
    "  f=1\n",
    "  for i in range(1,n+1):\n",
    "    f*=i\n",
    "  return f\n",
    "fact_of_num(5)"
   ]
  },
  {
   "cell_type": "markdown",
   "id": "8d0c10ab",
   "metadata": {},
   "source": [
    "Q.8. Implement a function to check if a given number is prime."
   ]
  },
  {
   "cell_type": "code",
   "execution_count": 10,
   "id": "9b7a5f36",
   "metadata": {},
   "outputs": [
    {
     "name": "stdout",
     "output_type": "stream",
     "text": [
      "10 is not prime\n"
     ]
    }
   ],
   "source": [
    "def check_prime(n):\n",
    "    if n <= 1:\n",
    "        print(n, \"is not prime\")\n",
    "    else:\n",
    "        for i in range(2, n):\n",
    "            if n % i == 0:\n",
    "                print(n, \"is not prime\")\n",
    "                break\n",
    "        else:\n",
    "            print(n, \"is prime\")\n",
    "\n",
    "check_prime(10)"
   ]
  },
  {
   "cell_type": "markdown",
   "id": "9ecfbf8a",
   "metadata": {},
   "source": [
    "Q.9. Write a Python program to sort a list of integers in ascending order."
   ]
  },
  {
   "cell_type": "code",
   "execution_count": 12,
   "id": "f34f51a0",
   "metadata": {},
   "outputs": [
    {
     "name": "stdout",
     "output_type": "stream",
     "text": [
      "[0, 1, 2, 4, 6, 8]\n"
     ]
    }
   ],
   "source": [
    "in_list = [4,8,2,0,6,1]\n",
    "print(sorted(in_list))"
   ]
  },
  {
   "cell_type": "markdown",
   "id": "18759711",
   "metadata": {},
   "source": [
    "Q.10. Implement a function to find the sum of all numbers in a list."
   ]
  },
  {
   "cell_type": "code",
   "execution_count": 13,
   "id": "c3253a48",
   "metadata": {},
   "outputs": [
    {
     "name": "stdout",
     "output_type": "stream",
     "text": [
      "45\n"
     ]
    }
   ],
   "source": [
    "in_list = [0,1,2,3,4,5,6,7,8,9]\n",
    "s = 0\n",
    "for i in in_list:\n",
    "  s+=i\n",
    "print(s)"
   ]
  },
  {
   "cell_type": "markdown",
   "id": "7fec035b",
   "metadata": {},
   "source": [
    "Q.11. Write a program to find the common elements between two lists.\n"
   ]
  },
  {
   "cell_type": "code",
   "execution_count": 15,
   "id": "633b689b",
   "metadata": {},
   "outputs": [
    {
     "name": "stdout",
     "output_type": "stream",
     "text": [
      "[3, 4]\n"
     ]
    }
   ],
   "source": [
    "list1 = [1,2,3,4]\n",
    "list2 = [3,4,5,6]\n",
    "\n",
    "common = set(list1).intersection(set(list2))\n",
    "\n",
    "print(list(common))\n",
    "     "
   ]
  },
  {
   "cell_type": "markdown",
   "id": "4bea51a8",
   "metadata": {},
   "source": [
    "Q.12. Implement a function to check if a given string is an anagram of another string."
   ]
  },
  {
   "cell_type": "code",
   "execution_count": 16,
   "id": "ba73c960",
   "metadata": {},
   "outputs": [
    {
     "name": "stdout",
     "output_type": "stream",
     "text": [
      "True\n"
     ]
    }
   ],
   "source": [
    "def is_anagram(str1, str2):\n",
    "    str1 = str1.replace(\" \", \"\").lower()\n",
    "    str2 = str2.replace(\" \", \"\").lower()\n",
    "\n",
    "    if len(str1) != len(str2):\n",
    "        return False\n",
    "\n",
    "    count = {}\n",
    "    for char in str1:\n",
    "        if char in count:\n",
    "            count[char] += 1\n",
    "        else:\n",
    "            count[char] = 1\n",
    "\n",
    "    for char in str2:\n",
    "        if char in count:\n",
    "            count[char] -= 1\n",
    "            if count[char] == 0:\n",
    "                del count[char]\n",
    "        else:\n",
    "            return False\n",
    "\n",
    "    return len(count) == 0\n",
    "\n",
    "     \n",
    "\n",
    "string1 = \"listen\"\n",
    "string2 = \"silent\"\n",
    "result = is_anagram(string1, string2)\n",
    "print(result)"
   ]
  },
  {
   "cell_type": "markdown",
   "id": "10fb618d",
   "metadata": {},
   "source": [
    "Q.13. Write a Python program to generate all permutations of a given string.\n"
   ]
  },
  {
   "cell_type": "code",
   "execution_count": 17,
   "id": "97189bcc",
   "metadata": {},
   "outputs": [
    {
     "name": "stdout",
     "output_type": "stream",
     "text": [
      "abc\n",
      "acb\n",
      "bac\n",
      "bca\n",
      "cab\n",
      "cba\n"
     ]
    }
   ],
   "source": [
    "from itertools import permutations\n",
    "\n",
    "def generate_permutations(string):\n",
    "    perms = permutations(string)\n",
    "    for perm in perms:\n",
    "        print(''.join(perm))\n",
    "\n",
    "generate_permutations(\"abc\")\n"
   ]
  },
  {
   "cell_type": "markdown",
   "id": "a06dd447",
   "metadata": {},
   "source": [
    "Q.14. Implement a function to calculate the Fibonacci sequence up to a given number of terms."
   ]
  },
  {
   "cell_type": "code",
   "execution_count": 19,
   "id": "cecef022",
   "metadata": {},
   "outputs": [
    {
     "name": "stdout",
     "output_type": "stream",
     "text": [
      "[0, 1, 1, 2, 3, 5, 8, 13, 21, 34]\n"
     ]
    }
   ],
   "source": [
    "def fibonacci_sequence(n):\n",
    "    sequence = []\n",
    "    if n >= 1:\n",
    "        sequence.append(0)\n",
    "    if n >= 2:\n",
    "        sequence.append(1)\n",
    "\n",
    "    for i in range(2, n):\n",
    "        next_num = sequence[i-1] + sequence[i-2]\n",
    "        sequence.append(next_num)\n",
    "\n",
    "    return sequence\n",
    "\n",
    "# Example usage\n",
    "terms = 10\n",
    "fib_seq = fibonacci_sequence(terms)\n",
    "print(fib_seq)"
   ]
  },
  {
   "cell_type": "markdown",
   "id": "6edfa64f",
   "metadata": {},
   "source": [
    "Q.15. Write a program to find the median of a list of numbers."
   ]
  },
  {
   "cell_type": "code",
   "execution_count": 20,
   "id": "d2305f61",
   "metadata": {},
   "outputs": [
    {
     "name": "stdout",
     "output_type": "stream",
     "text": [
      "5\n"
     ]
    }
   ],
   "source": [
    "def find_median(numbers):\n",
    "    sorted_numbers = sorted(numbers)\n",
    "    n = len(sorted_numbers)\n",
    "    middle_index = n // 2\n",
    "\n",
    "    if n % 2 == 0:\n",
    "        median = (sorted_numbers[middle_index - 1] + sorted_numbers[middle_index]) / 2\n",
    "    else:\n",
    "        median = sorted_numbers[middle_index]\n",
    "\n",
    "    return median\n",
    "\n",
    "# Example usage\n",
    "number_list = [4, 2, 9, 7, 5]\n",
    "median = find_median(number_list)\n",
    "print(median)"
   ]
  },
  {
   "cell_type": "markdown",
   "id": "0804b150",
   "metadata": {},
   "source": [
    "Q.16. Implement a function to check if a given list is sorted in non-decreasing order."
   ]
  },
  {
   "cell_type": "code",
   "execution_count": 22,
   "id": "ab41754a",
   "metadata": {},
   "outputs": [
    {
     "name": "stdout",
     "output_type": "stream",
     "text": [
      "True\n"
     ]
    }
   ],
   "source": [
    "def is_sorted(numbers):\n",
    "    for i in range(len(numbers) - 1):\n",
    "        if numbers[i] > numbers[i + 1]:\n",
    "            return False\n",
    "    return True\n",
    "\n",
    "# Example usage\n",
    "number_list = [1, 2, 3, 4, 5]\n",
    "result = is_sorted(number_list)\n",
    "print(result)"
   ]
  },
  {
   "cell_type": "markdown",
   "id": "1e6bcb60",
   "metadata": {},
   "source": [
    "Q.17. Write a Python program to find the intersection of two lists."
   ]
  },
  {
   "cell_type": "code",
   "execution_count": 24,
   "id": "8f0a6c23",
   "metadata": {},
   "outputs": [
    {
     "name": "stdout",
     "output_type": "stream",
     "text": [
      "[3, 4]\n"
     ]
    }
   ],
   "source": [
    "list1 = [1,2,3,4]\n",
    "list2 = [3,4,5,6]\n",
    "\n",
    "common = set(list1).intersection(set(list2))\n",
    "\n",
    "print(list(common))"
   ]
  },
  {
   "cell_type": "markdown",
   "id": "96bc967d",
   "metadata": {},
   "source": [
    "Q.18. Implement a function to find the maximum subarray sum in a given list.\n"
   ]
  },
  {
   "cell_type": "code",
   "execution_count": 25,
   "id": "a83524e2",
   "metadata": {},
   "outputs": [
    {
     "name": "stdout",
     "output_type": "stream",
     "text": [
      "6\n"
     ]
    }
   ],
   "source": [
    "def max_subarray_sum(numbers):\n",
    "    max_sum = float('-inf')  # Initialize with negative infinity\n",
    "    current_sum = 0\n",
    "\n",
    "    for num in numbers:\n",
    "        current_sum += num\n",
    "        if current_sum > max_sum:\n",
    "            max_sum = current_sum\n",
    "        if current_sum < 0:\n",
    "            current_sum = 0\n",
    "\n",
    "    return max_sum\n",
    "\n",
    "# Example usage\n",
    "number_list = [-2, 1, -3, 4, -1, 2, 1, -5, 4]\n",
    "max_sum = max_subarray_sum(number_list)\n",
    "print(max_sum)"
   ]
  },
  {
   "cell_type": "markdown",
   "id": "ed2cab12",
   "metadata": {},
   "source": [
    "Q.19. Write a program to remove all vowels from a given string.\n"
   ]
  },
  {
   "cell_type": "code",
   "execution_count": 26,
   "id": "9af698da",
   "metadata": {},
   "outputs": [
    {
     "name": "stdout",
     "output_type": "stream",
     "text": [
      "Hll, Wrld!\n"
     ]
    }
   ],
   "source": [
    "def remove_vowels(string):\n",
    "    vowels = 'aeiouAEIOU'\n",
    "    result = ''\n",
    "    for char in string:\n",
    "        if char not in vowels:\n",
    "            result += char\n",
    "    return result\n",
    "\n",
    "# Example usage\n",
    "input_string = \"Hello, World!\"\n",
    "output_string = remove_vowels(input_string)\n",
    "print(output_string)\n"
   ]
  },
  {
   "cell_type": "markdown",
   "id": "0a0b80ca",
   "metadata": {},
   "source": [
    "Q.20. Implement a function to reverse the order of words in a given sentence.\n"
   ]
  },
  {
   "cell_type": "code",
   "execution_count": 27,
   "id": "469bb7ab",
   "metadata": {},
   "outputs": [
    {
     "name": "stdout",
     "output_type": "stream",
     "text": [
      "OpenAI. to Welcome world! Hello,\n"
     ]
    }
   ],
   "source": [
    "def reverse_words(sentence):\n",
    "    words = sentence.split()\n",
    "    reversed_words = words[::-1]\n",
    "    reversed_sentence = ' '.join(reversed_words)\n",
    "    return reversed_sentence\n",
    "\n",
    "# Example usage\n",
    "input_sentence = \"Hello, world! Welcome to OpenAI.\"\n",
    "output_sentence = reverse_words(input_sentence)\n",
    "print(output_sentence)"
   ]
  },
  {
   "cell_type": "markdown",
   "id": "ca9176c4",
   "metadata": {},
   "source": [
    "Q.21. Write a Python program to check if two strings are anagrams of each other.\n"
   ]
  },
  {
   "cell_type": "code",
   "execution_count": 28,
   "id": "10444c01",
   "metadata": {},
   "outputs": [
    {
     "name": "stdout",
     "output_type": "stream",
     "text": [
      "True\n"
     ]
    }
   ],
   "source": [
    "def are_anagrams(str1, str2):\n",
    "    str1 = str1.replace(\" \", \"\").lower()\n",
    "    str2 = str2.replace(\" \", \"\").lower()\n",
    "\n",
    "    if sorted(str1) == sorted(str2):\n",
    "        return True\n",
    "    else:\n",
    "        return False\n",
    "\n",
    "# Example usage\n",
    "string1 = \"listen\"\n",
    "string2 = \"silent\"\n",
    "result = are_anagrams(string1, string2)\n",
    "print(result)"
   ]
  },
  {
   "cell_type": "markdown",
   "id": "21b3ca11",
   "metadata": {},
   "source": [
    "Q.22. Implement a function to find the first non-repeating character in a string."
   ]
  },
  {
   "cell_type": "code",
   "execution_count": 29,
   "id": "9941993d",
   "metadata": {},
   "outputs": [
    {
     "name": "stdout",
     "output_type": "stream",
     "text": [
      "c\n"
     ]
    }
   ],
   "source": [
    "def find_first_non_repeating_char(string):\n",
    "    char_count = {}\n",
    "\n",
    "    for char in string:\n",
    "        if char in char_count:\n",
    "            char_count[char] += 1\n",
    "        else:\n",
    "            char_count[char] = 1\n",
    "\n",
    "    for char in string:\n",
    "        if char_count[char] == 1:\n",
    "            return char\n",
    "\n",
    "    return None\n",
    "\n",
    "# Example usage\n",
    "input_string = \"abacabad\"\n",
    "result = find_first_non_repeating_char(input_string)\n",
    "print(result)\n"
   ]
  },
  {
   "cell_type": "markdown",
   "id": "81cc7d40",
   "metadata": {},
   "source": [
    "Q.23. Write a program to find the prime factors of a given number.\n"
   ]
  },
  {
   "cell_type": "code",
   "execution_count": 31,
   "id": "d96af296",
   "metadata": {},
   "outputs": [
    {
     "name": "stdout",
     "output_type": "stream",
     "text": [
      "[2, 2, 3, 3]\n"
     ]
    }
   ],
   "source": [
    "def find_prime_factors(number):\n",
    "    factors = []\n",
    "    divisor = 2\n",
    "\n",
    "    while divisor <= number:\n",
    "        if number % divisor == 0:\n",
    "            factors.append(divisor)\n",
    "            number //= divisor\n",
    "        else:\n",
    "            divisor += 1\n",
    "\n",
    "    return factors\n",
    "\n",
    "# Example usage\n",
    "input_number = 36\n",
    "prime_factors = find_prime_factors(input_number)\n",
    "print(prime_factors)"
   ]
  },
  {
   "cell_type": "markdown",
   "id": "03e8c9dc",
   "metadata": {},
   "source": [
    "Q.24. Implement a function to check if a given number is a power of two."
   ]
  },
  {
   "cell_type": "code",
   "execution_count": 32,
   "id": "c391d8bf",
   "metadata": {},
   "outputs": [
    {
     "name": "stdout",
     "output_type": "stream",
     "text": [
      "True\n"
     ]
    }
   ],
   "source": [
    "def is_power_of_two(number):\n",
    "    if number <= 0:\n",
    "        return False\n",
    "    else:\n",
    "        return (number & (number - 1)) == 0\n",
    "\n",
    "# Example usage\n",
    "input_number = 16\n",
    "result = is_power_of_two(input_number)\n",
    "print(result)"
   ]
  },
  {
   "cell_type": "markdown",
   "id": "45dac428",
   "metadata": {},
   "source": [
    "Q.25. Write a Python program to merge two sorted lists into a single sorted list."
   ]
  },
  {
   "cell_type": "code",
   "execution_count": 33,
   "id": "cb7271e0",
   "metadata": {},
   "outputs": [
    {
     "name": "stdout",
     "output_type": "stream",
     "text": [
      "[1, 2, 3, 4, 6, 7, 8, 9]\n"
     ]
    }
   ],
   "source": [
    "def merge_sorted_lists(list1, list2):\n",
    "    merged_list = []\n",
    "    i = 0\n",
    "    j = 0\n",
    "\n",
    "    while i < len(list1) and j < len(list2):\n",
    "        if list1[i] <= list2[j]:\n",
    "            merged_list.append(list1[i])\n",
    "            i += 1\n",
    "        else:\n",
    "            merged_list.append(list2[j])\n",
    "            j += 1\n",
    "\n",
    "    # Append any remaining elements from list1 or list2\n",
    "    merged_list.extend(list1[i:])\n",
    "    merged_list.extend(list2[j:])\n",
    "\n",
    "    return merged_list\n",
    "\n",
    "# Example usage\n",
    "list1 = [1, 4, 7, 9]\n",
    "list2 = [2, 3, 6, 8]\n",
    "merged_list = merge_sorted_lists(list1, list2)\n",
    "print(merged_list)\n"
   ]
  },
  {
   "cell_type": "markdown",
   "id": "c2aa7d96",
   "metadata": {},
   "source": [
    "Q.26.Implement a function to find the mode of a list of numbers.\n"
   ]
  },
  {
   "cell_type": "code",
   "execution_count": 34,
   "id": "cb7ece21",
   "metadata": {},
   "outputs": [
    {
     "name": "stdout",
     "output_type": "stream",
     "text": [
      "[4]\n"
     ]
    }
   ],
   "source": [
    "from collections import Counter\n",
    "\n",
    "def find_mode(numbers):\n",
    "    counter = Counter(numbers)\n",
    "    modes = counter.most_common()\n",
    "    max_count = modes[0][1]\n",
    "\n",
    "    mode_list = []\n",
    "    for num, count in modes:\n",
    "        if count == max_count:\n",
    "            mode_list.append(num)\n",
    "        else:\n",
    "            break\n",
    "\n",
    "    return mode_list\n",
    "\n",
    "# Example usage\n",
    "number_list = [1, 2, 2, 3, 3, 3, 4, 4, 4, 4]\n",
    "modes = find_mode(number_list)\n",
    "print(modes)\n"
   ]
  },
  {
   "cell_type": "markdown",
   "id": "d83befa7",
   "metadata": {},
   "source": [
    "Q.27. Write a program to find the greatest common divisor (GCD) of two numbers.\n"
   ]
  },
  {
   "cell_type": "code",
   "execution_count": 35,
   "id": "a0d5982d",
   "metadata": {},
   "outputs": [
    {
     "name": "stdout",
     "output_type": "stream",
     "text": [
      "6\n"
     ]
    }
   ],
   "source": [
    "def find_gcd(a, b):\n",
    "    while b != 0:\n",
    "        a, b = b, a % b\n",
    "    return a\n",
    "\n",
    "# Example usage\n",
    "number1 = 48\n",
    "number2 = 18\n",
    "gcd = find_gcd(number1, number2)\n",
    "print(gcd)"
   ]
  },
  {
   "cell_type": "markdown",
   "id": "61a9ba16",
   "metadata": {},
   "source": [
    "Q.28. Implement a function to calculate the square root of a given number."
   ]
  },
  {
   "cell_type": "code",
   "execution_count": 36,
   "id": "62f1cd06",
   "metadata": {},
   "outputs": [
    {
     "name": "stdout",
     "output_type": "stream",
     "text": [
      "3.0000000000393214\n"
     ]
    }
   ],
   "source": [
    "def calculate_square_root(number, epsilon=1e-6):\n",
    "    if number < 0:\n",
    "        raise ValueError(\"Square root is undefined for negative numbers.\")\n",
    "    if number == 0:\n",
    "        return 0\n",
    "\n",
    "    guess = number / 2\n",
    "    while abs(guess * guess - number) > epsilon:\n",
    "        guess = (guess + number / guess) / 2\n",
    "\n",
    "    return guess\n",
    "\n",
    "# Example usage\n",
    "input_number = 9\n",
    "square_root = calculate_square_root(input_number)\n",
    "print(square_root)"
   ]
  },
  {
   "cell_type": "markdown",
   "id": "08047225",
   "metadata": {},
   "source": [
    "Q.29. Write a Python program to check if a given string is a valid palindrome ignoring non-alphanumeric characters.\n"
   ]
  },
  {
   "cell_type": "code",
   "execution_count": 37,
   "id": "952db2ec",
   "metadata": {},
   "outputs": [
    {
     "name": "stdout",
     "output_type": "stream",
     "text": [
      "True\n"
     ]
    }
   ],
   "source": [
    "import re\n",
    "\n",
    "def is_valid_palindrome(string):\n",
    "    # Remove non-alphanumeric characters and convert to lowercase\n",
    "    alphanumeric_string = re.sub(r'\\W+', '', string).lower()\n",
    "\n",
    "    # Check if the alphanumeric string is equal to its reverse\n",
    "    return alphanumeric_string == alphanumeric_string[::-1]\n",
    "\n",
    "# Example usage\n",
    "input_string = \"A man, a plan, a canal: Panama.\"\n",
    "result = is_valid_palindrome(input_string)\n",
    "print(result)"
   ]
  },
  {
   "cell_type": "markdown",
   "id": "b7f5117b",
   "metadata": {},
   "source": [
    "Q.30. Implement a function to find the minimum element in a rotated sorted list.\n"
   ]
  },
  {
   "cell_type": "code",
   "execution_count": 38,
   "id": "e5503d0a",
   "metadata": {},
   "outputs": [
    {
     "name": "stdout",
     "output_type": "stream",
     "text": [
      "0\n"
     ]
    }
   ],
   "source": [
    "def find_minimum_element(rotated_list):\n",
    "    left = 0\n",
    "    right = len(rotated_list) - 1\n",
    "\n",
    "    while left < right:\n",
    "        mid = left + (right - left) // 2\n",
    "\n",
    "        if rotated_list[mid] > rotated_list[right]:\n",
    "            left = mid + 1\n",
    "        else:\n",
    "            right = mid\n",
    "\n",
    "    return rotated_list[left]\n",
    "\n",
    "# Example usage\n",
    "input_list = [4, 5, 6, 7, 0, 1, 2]\n",
    "minimum = find_minimum_element(input_list)\n",
    "print(minimum)"
   ]
  },
  {
   "cell_type": "markdown",
   "id": "d7e2e5d4",
   "metadata": {},
   "source": [
    "Q.31. Write a program to find the sum of all even numbers in a list."
   ]
  },
  {
   "cell_type": "code",
   "execution_count": 40,
   "id": "9e6a81ab",
   "metadata": {},
   "outputs": [
    {
     "name": "stdout",
     "output_type": "stream",
     "text": [
      "30\n"
     ]
    }
   ],
   "source": [
    "def sum_even_numbers(numbers):\n",
    "    even_sum = 0\n",
    "    for num in numbers:\n",
    "        if num % 2 == 0:\n",
    "            even_sum += num\n",
    "    return even_sum\n",
    "\n",
    "# Example usage\n",
    "number_list = [1, 2, 3, 4, 5, 6, 7, 8, 9, 10]\n",
    "even_sum = sum_even_numbers(number_list)\n",
    "print(even_sum)"
   ]
  },
  {
   "cell_type": "markdown",
   "id": "fb5d86d4",
   "metadata": {},
   "source": [
    "Q.32. Implement a function to calculate the power of a number using recursion.\n"
   ]
  },
  {
   "cell_type": "code",
   "execution_count": 41,
   "id": "5942e374",
   "metadata": {},
   "outputs": [
    {
     "name": "stdout",
     "output_type": "stream",
     "text": [
      "8\n"
     ]
    }
   ],
   "source": [
    "def power(base, exponent):\n",
    "    if exponent == 0:\n",
    "        return 1\n",
    "    elif exponent < 0:\n",
    "        return 1 / power(base, -exponent)\n",
    "    else:\n",
    "        return base * power(base, exponent - 1)\n",
    "\n",
    "# Example usage\n",
    "base_number = 2\n",
    "exponent_number = 3\n",
    "result = power(base_number, exponent_number)\n",
    "print(result)"
   ]
  },
  {
   "cell_type": "markdown",
   "id": "034db032",
   "metadata": {},
   "source": [
    "Q.33. Write a Python program to remove duplicates from a list while preserving the order."
   ]
  },
  {
   "cell_type": "code",
   "execution_count": 42,
   "id": "8945a3de",
   "metadata": {},
   "outputs": [
    {
     "name": "stdout",
     "output_type": "stream",
     "text": [
      "[1, 2, 3, 4, 5, 6]\n"
     ]
    }
   ],
   "source": [
    "def remove_duplicates_preserve_order(input_list):\n",
    "    seen = set()\n",
    "    output_list = []\n",
    "\n",
    "    for item in input_list:\n",
    "        if item not in seen:\n",
    "            seen.add(item)\n",
    "            output_list.append(item)\n",
    "\n",
    "    return output_list\n",
    "\n",
    "# Example usage\n",
    "input_list = [1, 2, 3, 2, 4, 1, 5, 6, 4]\n",
    "output_list = remove_duplicates_preserve_order(input_list)\n",
    "print(output_list)"
   ]
  },
  {
   "cell_type": "markdown",
   "id": "0003d8c2",
   "metadata": {},
   "source": [
    "Q.34. Implement a function to find the longest common prefix among a list of strings."
   ]
  },
  {
   "cell_type": "code",
   "execution_count": 43,
   "id": "c484e21f",
   "metadata": {},
   "outputs": [
    {
     "name": "stdout",
     "output_type": "stream",
     "text": [
      "fl\n"
     ]
    }
   ],
   "source": [
    "def find_longest_common_prefix(strings):\n",
    "    if not strings:\n",
    "        return \"\"\n",
    "\n",
    "    # Find the shortest string in the list\n",
    "    shortest = min(strings, key=len)\n",
    "\n",
    "    for i, char in enumerate(shortest):\n",
    "        for string in strings:\n",
    "            if string[i] != char:\n",
    "                return shortest[:i]\n",
    "\n",
    "    return shortest\n",
    "\n",
    "# Example usage\n",
    "input_strings = [\"flower\", \"flow\", \"flight\"]\n",
    "common_prefix = find_longest_common_prefix(input_strings)\n",
    "print(common_prefix)"
   ]
  },
  {
   "cell_type": "markdown",
   "id": "b4dfb8ed",
   "metadata": {},
   "source": [
    "Q.35. Write a program to check if a given number is a perfect square."
   ]
  },
  {
   "cell_type": "code",
   "execution_count": 44,
   "id": "c96fcaee",
   "metadata": {},
   "outputs": [
    {
     "name": "stdout",
     "output_type": "stream",
     "text": [
      "True\n"
     ]
    }
   ],
   "source": [
    "def is_perfect_square(number):\n",
    "    if number < 0:\n",
    "        return False\n",
    "\n",
    "    sqrt = int(number ** 0.5)\n",
    "    return sqrt * sqrt == number\n",
    "\n",
    "# Example usage\n",
    "input_number = 16\n",
    "result = is_perfect_square(input_number)\n",
    "print(result)"
   ]
  },
  {
   "cell_type": "markdown",
   "id": "cab6b5c4",
   "metadata": {},
   "source": [
    "Q.36. Implement a function to calculate the product of all elements in a list."
   ]
  },
  {
   "cell_type": "code",
   "execution_count": 45,
   "id": "6acabc58",
   "metadata": {},
   "outputs": [
    {
     "name": "stdout",
     "output_type": "stream",
     "text": [
      "120\n"
     ]
    }
   ],
   "source": [
    "def calculate_product(numbers):\n",
    "    if not numbers:\n",
    "        return 0\n",
    "\n",
    "    product = 1\n",
    "    for num in numbers:\n",
    "        product *= num\n",
    "\n",
    "    return product\n",
    "\n",
    "# Example usage\n",
    "number_list = [2, 3, 4, 5]\n",
    "product = calculate_product(number_list)\n",
    "print(product)\n"
   ]
  },
  {
   "cell_type": "markdown",
   "id": "e5077abc",
   "metadata": {},
   "source": [
    "Q.37. Write a Python program to reverse the order of words in a sentence while preserving the word order."
   ]
  },
  {
   "cell_type": "code",
   "execution_count": 46,
   "id": "041143c3",
   "metadata": {},
   "outputs": [
    {
     "name": "stdout",
     "output_type": "stream",
     "text": [
      "you? are how World, Hello\n"
     ]
    }
   ],
   "source": [
    "def reverse_words(sentence):\n",
    "    words = sentence.split()\n",
    "    reversed_words = words[::-1]\n",
    "    reversed_sentence = ' '.join(reversed_words)\n",
    "    return reversed_sentence\n",
    "\n",
    "# Example usage\n",
    "input_sentence = \"Hello World, how are you?\"\n",
    "reversed_sentence = reverse_words(input_sentence)\n",
    "print(reversed_sentence)"
   ]
  },
  {
   "cell_type": "markdown",
   "id": "fed447aa",
   "metadata": {},
   "source": [
    "Q.38. Implement a function to find the missing number in a given list of consecutive numbers\n"
   ]
  },
  {
   "cell_type": "code",
   "execution_count": 47,
   "id": "86b41045",
   "metadata": {},
   "outputs": [
    {
     "name": "stdout",
     "output_type": "stream",
     "text": [
      "4\n"
     ]
    }
   ],
   "source": [
    "def find_missing_number(numbers):\n",
    "    n = len(numbers) + 1\n",
    "    expected_sum = n * (n + 1) // 2\n",
    "    actual_sum = sum(numbers)\n",
    "    missing_number = expected_sum - actual_sum\n",
    "    return missing_number\n",
    "\n",
    "# Example usage\n",
    "input_list = [1, 2, 3, 5, 6, 7, 8]\n",
    "missing_number = find_missing_number(input_list)\n",
    "print(missing_number)"
   ]
  },
  {
   "cell_type": "markdown",
   "id": "601cfa91",
   "metadata": {},
   "source": [
    "Q.39. Write a program to find the sum of digits of a given number.\n"
   ]
  },
  {
   "cell_type": "code",
   "execution_count": 48,
   "id": "7e2321f6",
   "metadata": {},
   "outputs": [
    {
     "name": "stdout",
     "output_type": "stream",
     "text": [
      "15\n"
     ]
    }
   ],
   "source": [
    "def sum_of_digits(number):\n",
    "    sum = 0\n",
    "    while number > 0:\n",
    "        digit = number % 10\n",
    "        sum += digit\n",
    "        number //= 10\n",
    "    return sum\n",
    "\n",
    "# Example usage\n",
    "input_number = 12345\n",
    "digit_sum = sum_of_digits(input_number)\n",
    "print(digit_sum)"
   ]
  },
  {
   "cell_type": "markdown",
   "id": "fdb867af",
   "metadata": {},
   "source": [
    "Q.40. Implement a function to check if a given string is a valid palindrome considering case sensitivity."
   ]
  },
  {
   "cell_type": "code",
   "execution_count": 49,
   "id": "4a24c57b",
   "metadata": {},
   "outputs": [
    {
     "name": "stdout",
     "output_type": "stream",
     "text": [
      "True\n"
     ]
    }
   ],
   "source": [
    "def is_valid_palindrome(string):\n",
    "    # Remove whitespace and convert to lowercase\n",
    "    modified_string = ''.join(string.split()).lower()\n",
    "    return modified_string == modified_string[::-1]\n",
    "\n",
    "# Example usage\n",
    "input_string = \"Racecar\"\n",
    "result = is_valid_palindrome(input_string)\n",
    "print(result)"
   ]
  },
  {
   "cell_type": "markdown",
   "id": "9f70ea18",
   "metadata": {},
   "source": [
    "Q.41. Write a Python program to find the smallest missing positive integer in a list."
   ]
  },
  {
   "cell_type": "code",
   "execution_count": 50,
   "id": "55bec2c3",
   "metadata": {},
   "outputs": [
    {
     "name": "stdout",
     "output_type": "stream",
     "text": [
      "2\n"
     ]
    }
   ],
   "source": [
    "def find_smallest_missing_positive_integer(numbers):\n",
    "    n = len(numbers)\n",
    "\n",
    "    # Move all positive integers to the left\n",
    "    j = 0\n",
    "    for i in range(n):\n",
    "        if numbers[i] > 0:\n",
    "            numbers[i], numbers[j] = numbers[j], numbers[i]\n",
    "            j += 1\n",
    "\n",
    "    # Consider only positive integers from index 0 to j\n",
    "    for i in range(j):\n",
    "        num = abs(numbers[i])\n",
    "        if num <= j:\n",
    "            numbers[num - 1] = -abs(numbers[num - 1])\n",
    "\n",
    "    # Find the smallest missing positive integer\n",
    "    for i in range(j):\n",
    "        if numbers[i] > 0:\n",
    "            return i + 1\n",
    "\n",
    "    return j + 1\n",
    "\n",
    "# Example usage\n",
    "input_list = [3, 4, -1, 1]\n",
    "smallest_missing = find_smallest_missing_positive_integer(input_list)\n",
    "print(smallest_missing)"
   ]
  },
  {
   "cell_type": "markdown",
   "id": "587ea3ca",
   "metadata": {},
   "source": [
    "Q.42. Implement a function to find the longest palindrome substring in a given string.\n"
   ]
  },
  {
   "cell_type": "code",
   "execution_count": 51,
   "id": "1ee2304c",
   "metadata": {},
   "outputs": [
    {
     "name": "stdout",
     "output_type": "stream",
     "text": [
      "bab\n"
     ]
    }
   ],
   "source": [
    "def longest_palindrome_substring(string):\n",
    "    n = len(string)\n",
    "    longest_length = 0\n",
    "    start = 0\n",
    "\n",
    "    # Helper function to expand around center\n",
    "    def expand_around_center(left, right):\n",
    "        nonlocal start, longest_length\n",
    "        while left >= 0 and right < n and string[left] == string[right]:\n",
    "            left -= 1\n",
    "            right += 1\n",
    "        current_length = right - left - 1\n",
    "        if current_length > longest_length:\n",
    "            longest_length = current_length\n",
    "            start = left + 1\n",
    "\n",
    "    # Check for odd-length palindromes\n",
    "    for i in range(n):\n",
    "        expand_around_center(i, i)\n",
    "\n",
    "    # Check for even-length palindromes\n",
    "    for i in range(n - 1):\n",
    "        expand_around_center(i, i + 1)\n",
    "\n",
    "    return string[start:start + longest_length]\n",
    "\n",
    "# Example usage\n",
    "input_string = \"babad\"\n",
    "longest_palindrome = longest_palindrome_substring(input_string)\n",
    "print(longest_palindrome)"
   ]
  },
  {
   "cell_type": "markdown",
   "id": "5e0904af",
   "metadata": {},
   "source": [
    "Q.43. Write a program to find the number of occurrences of a given element in a list.\n"
   ]
  },
  {
   "cell_type": "code",
   "execution_count": 52,
   "id": "79877b02",
   "metadata": {},
   "outputs": [
    {
     "name": "stdout",
     "output_type": "stream",
     "text": [
      "4\n"
     ]
    }
   ],
   "source": [
    "def count_occurrences(elements, target):\n",
    "    count = 0\n",
    "    for element in elements:\n",
    "        if element == target:\n",
    "            count += 1\n",
    "    return count\n",
    "\n",
    "# Example usage\n",
    "input_list = [1, 2, 3, 2, 4, 2, 5, 2]\n",
    "target_element = 2\n",
    "occurrence_count = count_occurrences(input_list, target_element)\n",
    "print(occurrence_count)"
   ]
  },
  {
   "cell_type": "markdown",
   "id": "0103fe80",
   "metadata": {},
   "source": [
    "Q.44. Implement a function to check if a given number is a perfect number."
   ]
  },
  {
   "cell_type": "code",
   "execution_count": 53,
   "id": "400777f8",
   "metadata": {},
   "outputs": [
    {
     "name": "stdout",
     "output_type": "stream",
     "text": [
      "True\n"
     ]
    }
   ],
   "source": [
    "def is_perfect_number(number):\n",
    "    if number <= 0:\n",
    "        return False\n",
    "\n",
    "    divisors_sum = sum(\n",
    "        divisor for divisor in range(1, number) if number % divisor == 0\n",
    "    )\n",
    "\n",
    "    return divisors_sum == number\n",
    "\n",
    "# Example usage\n",
    "input_number = 28\n",
    "result = is_perfect_number(input_number)\n",
    "print(result)"
   ]
  },
  {
   "cell_type": "markdown",
   "id": "8bed22a6",
   "metadata": {},
   "source": [
    "Q.45. Write a Python program to remove all duplicates from a string."
   ]
  },
  {
   "cell_type": "code",
   "execution_count": 54,
   "id": "6fa81668",
   "metadata": {},
   "outputs": [
    {
     "name": "stdout",
     "output_type": "stream",
     "text": [
      "helo\n"
     ]
    }
   ],
   "source": [
    "def remove_duplicates(string):\n",
    "    unique_chars = []\n",
    "    for char in string:\n",
    "        if char not in unique_chars:\n",
    "            unique_chars.append(char)\n",
    "    return ''.join(unique_chars)\n",
    "\n",
    "# Example usage\n",
    "input_string = \"hello\"\n",
    "result = remove_duplicates(input_string)\n",
    "print(result)\n"
   ]
  },
  {
   "cell_type": "markdown",
   "id": "c3a3fffc",
   "metadata": {},
   "source": [
    "Q.46. Implement a function to find the first missing positive"
   ]
  },
  {
   "cell_type": "code",
   "execution_count": 55,
   "id": "44e57973",
   "metadata": {},
   "outputs": [
    {
     "name": "stdout",
     "output_type": "stream",
     "text": [
      "2\n"
     ]
    }
   ],
   "source": [
    "def find_first_missing_positive(numbers):\n",
    "    n = len(numbers)\n",
    "\n",
    "    # Move all positive integers to the left\n",
    "    j = 0\n",
    "    for i in range(n):\n",
    "        if numbers[i] > 0:\n",
    "            numbers[i], numbers[j] = numbers[j], numbers[i]\n",
    "            j += 1\n",
    "\n",
    "    # Consider only positive integers from index 0 to j\n",
    "    for i in range(j):\n",
    "        num = abs(numbers[i])\n",
    "        if num <= j:\n",
    "            numbers[num - 1] = -abs(numbers[num - 1])\n",
    "\n",
    "    # Find the first missing positive integer\n",
    "    for i in range(j):\n",
    "        if numbers[i] > 0:\n",
    "            return i + 1\n",
    "\n",
    "    return j + 1\n",
    "\n",
    "# Example usage\n",
    "input_list = [3, 4, -1, 1]\n",
    "missing_positive = find_first_missing_positive(input_list)\n",
    "print(missing_positive)"
   ]
  }
 ],
 "metadata": {
  "kernelspec": {
   "display_name": "Python 3 (ipykernel)",
   "language": "python",
   "name": "python3"
  },
  "language_info": {
   "codemirror_mode": {
    "name": "ipython",
    "version": 3
   },
   "file_extension": ".py",
   "mimetype": "text/x-python",
   "name": "python",
   "nbconvert_exporter": "python",
   "pygments_lexer": "ipython3",
   "version": "3.9.7"
  }
 },
 "nbformat": 4,
 "nbformat_minor": 5
}
