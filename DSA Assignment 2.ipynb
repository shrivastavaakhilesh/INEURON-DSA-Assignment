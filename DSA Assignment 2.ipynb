{
 "cells": [
  {
   "cell_type": "markdown",
   "id": "52aed84c",
   "metadata": {},
   "source": [
    "Q1. Given an integer array nums of 2n integers, group these integers into n pairs (a1, b1), (a2, b2),..., (an, bn) such that the sum of min(ai, bi) for all i is maximized. Return the maximized sum.\n",
    "Example 1: Input: nums = [1,4,3,2] Output: 4"
   ]
  },
  {
   "cell_type": "code",
   "execution_count": 1,
   "id": "6baef599",
   "metadata": {},
   "outputs": [
    {
     "name": "stdout",
     "output_type": "stream",
     "text": [
      "Output: 4\n"
     ]
    }
   ],
   "source": [
    "def arrayPairSum(nums):\n",
    "    # Sort the array in ascending order\n",
    "    nums.sort()\n",
    "\n",
    "    # Initialize the sum variable\n",
    "    total_sum = 0\n",
    "\n",
    "    # Iterate over the array, incrementing the index by 2 each time\n",
    "    for i in range(0, len(nums), 2):\n",
    "        # Add the minimum value of the pair to the sum\n",
    "        total_sum += min(nums[i], nums[i + 1])\n",
    "\n",
    "    # Return the maximized sum\n",
    "    return total_sum\n",
    "\n",
    "\n",
    "nums = [1, 4, 3, 2]\n",
    "max_sum = arrayPairSum(nums)\n",
    "print(\"Output:\", max_sum)"
   ]
  },
  {
   "cell_type": "markdown",
   "id": "65b3dbed",
   "metadata": {},
   "source": [
    "Q2. Alice has n candies, where the ith candy is of type candyType[i]. Alice noticed that she started to gain weight, so she visited a doctor. The doctor advised Alice to only eat n / 2 of the candies she has (n is always even). Alice likes her candies very much, and she wants to eat the maximum number of different types of candies while still following the doctor's advice. Given the integer array candyType of length n, return the maximum number of different types of candies she can eat if she only eats n / 2 of them.\n",
    "Example 1: Input: candyType = [1,1,2,2,3,3] Output: 3\n",
    "\n",
    "Explanation: Alice can only eat 6 / 2 = 3 candies. Since there are only 3 types, she can eat one of each type"
   ]
  },
  {
   "cell_type": "code",
   "execution_count": 2,
   "id": "766992b5",
   "metadata": {},
   "outputs": [
    {
     "name": "stdout",
     "output_type": "stream",
     "text": [
      "Output: 3\n"
     ]
    }
   ],
   "source": [
    "def distributeCandies(candyType):\n",
    "    # Calculate the maximum number of candies Alice can eat\n",
    "    max_candies = len(candyType) // 2\n",
    "\n",
    "    # Calculate the number of unique candy types\n",
    "    unique_candies = len(set(candyType))\n",
    "\n",
    "    # Return the minimum of max_candies and unique_candies\n",
    "    return min(max_candies, unique_candies)\n",
    "candyType = [1, 1, 2, 2, 3, 3]\n",
    "max_types = distributeCandies(candyType)\n",
    "print(\"Output:\", max_types)"
   ]
  },
  {
   "cell_type": "markdown",
   "id": "6742d336",
   "metadata": {},
   "source": [
    "Q3. We define a harmonious array as an array where the difference between its maximum value and its minimum value is exactly 1. Given an integer array nums, return the length of its longest harmonious subsequence among all its possible subsequences. A subsequence of an array is a sequence that can be derived from the array by deleting some or no elements without changing the order of the remaining elements.\n",
    "Example 1: Input: nums = [1,3,2,2,5,2,3,7] Output: 5\n",
    "\n",
    "Explanation: The longest harmonious subsequence is [3,2,2,2,3]."
   ]
  },
  {
   "cell_type": "code",
   "execution_count": 3,
   "id": "1da4cdda",
   "metadata": {},
   "outputs": [
    {
     "name": "stdout",
     "output_type": "stream",
     "text": [
      "5\n"
     ]
    }
   ],
   "source": [
    "def findLHS(nums):\n",
    "    numCount = {}\n",
    "    for num in nums:\n",
    "        numCount[num] = numCount.get(num, 0) + 1\n",
    "    \n",
    "    maxLength = 0\n",
    "    for num in numCount.keys():\n",
    "        if num + 1 in numCount:\n",
    "            maxLength = max(maxLength, numCount[num] + numCount[num + 1])\n",
    "    \n",
    "    return maxLength\n",
    "nums = [1, 3, 2, 2, 5, 2, 3, 7]\n",
    "print(findLHS(nums))"
   ]
  },
  {
   "cell_type": "markdown",
   "id": "c85bd53f",
   "metadata": {},
   "source": [
    "Q4. You have a long flowerbed in which some of the plots are planted, and some are not. However, flowers cannot be planted in adjacent plots.Given an integer array flowerbed containing 0's and 1's, where 0 means empty and 1 means not empty, and an integer n, return true if n new flowers can be planted in the flowerbed without violating the no-adjacent-flowers rule and false otherwise.\n",
    "Example 1: Input: flowerbed = [1,0,0,0,1], n = 1 Output: true"
   ]
  },
  {
   "cell_type": "code",
   "execution_count": 4,
   "id": "e4bced7d",
   "metadata": {},
   "outputs": [
    {
     "name": "stdout",
     "output_type": "stream",
     "text": [
      "Output: True\n"
     ]
    }
   ],
   "source": [
    "def canPlaceFlowers(flowerbed, n):\n",
    "    # Initialize a variable to keep track of available slots\n",
    "    available_slots = 0\n",
    "\n",
    "    # Add dummy 0s at the beginning and end to handle edge cases\n",
    "    flowerbed = [0] + flowerbed + [0]\n",
    "\n",
    "    # Iterate over the flowerbed\n",
    "    for i in range(1, len(flowerbed) - 1):\n",
    "        if (\n",
    "            flowerbed[i] == 0 and\n",
    "            flowerbed[i - 1] == 0 and\n",
    "            flowerbed[i + 1] == 0\n",
    "        ):\n",
    "            # If the current plot and its adjacent plots are empty,\n",
    "            # we can plant a flower here\n",
    "            flowerbed[i] = 1\n",
    "            available_slots += 1\n",
    "\n",
    "    # Return whether we can plant n flowers\n",
    "    return available_slots >= n\n",
    "flowerbed = [1, 0, 0, 0, 1]\n",
    "n = 1\n",
    "can_plant = canPlaceFlowers(flowerbed, n)\n",
    "print(\"Output:\", can_plant)"
   ]
  },
  {
   "cell_type": "markdown",
   "id": "2b737676",
   "metadata": {},
   "source": [
    "Q5. Given an integer array nums, find three numbers whose product is maximum and return the maximum product.\n",
    "Example 1: Input: nums = [1,2,3] Output: 6"
   ]
  },
  {
   "cell_type": "code",
   "execution_count": 5,
   "id": "916edd93",
   "metadata": {},
   "outputs": [
    {
     "name": "stdout",
     "output_type": "stream",
     "text": [
      "Output: 6\n"
     ]
    }
   ],
   "source": [
    "def maximumProduct(nums):\n",
    "    # Sort the array in ascending order\n",
    "    nums.sort()\n",
    "\n",
    "    # Calculate the product of the three largest elements\n",
    "    max_product = nums[-1] * nums[-2] * nums[-3]\n",
    "\n",
    "    # Calculate the product of the two smallest elements and the largest element\n",
    "    # (in case there are negative numbers in the array)\n",
    "    alternate_product = nums[0] * nums[1] * nums[-1]\n",
    "\n",
    "    # Return the maximum of max_product and alternate_product\n",
    "    return max(max_product, alternate_product)\n",
    "nums = [1, 2, 3]\n",
    "max_prod = maximumProduct(nums)\n",
    "print(\"Output:\", max_prod)"
   ]
  },
  {
   "cell_type": "markdown",
   "id": "5d5d8ca5",
   "metadata": {},
   "source": [
    "Q6. Given an array of integers nums which is sorted in ascending order, and an integer target, write a function to search target in nums. If target exists, then return its index. Otherwise, return -1. You must write an algorithm with O(log n) runtime complexity.\n",
    "Input: nums = [-1,0,3,5,9,12], target = 9 Output: 4\n",
    "\n",
    "Explanation: 9 exists in nums and its index is 4"
   ]
  },
  {
   "cell_type": "code",
   "execution_count": 6,
   "id": "109329aa",
   "metadata": {},
   "outputs": [
    {
     "name": "stdout",
     "output_type": "stream",
     "text": [
      "4\n"
     ]
    }
   ],
   "source": [
    "def search(nums, target):\n",
    "    left, right = 0, len(nums) - 1\n",
    "    \n",
    "    while left <= right:\n",
    "        mid = (left + right) // 2\n",
    "        \n",
    "        if nums[mid] == target:\n",
    "            return mid\n",
    "        elif nums[mid] < target:\n",
    "            left = mid + 1\n",
    "        else:\n",
    "            right = mid - 1\n",
    "    \n",
    "    return -1\n",
    "nums = [-1, 0, 3, 5, 9, 12]\n",
    "target = 9\n",
    "print(search(nums, target))  # Output: 4"
   ]
  },
  {
   "cell_type": "markdown",
   "id": "9a5f5415",
   "metadata": {},
   "source": [
    "Q7. An array is monotonic if it is either monotone increasing or monotone decreasing. An array nums is monotone increasing if for all i <= j, nums[i] <= nums[j]. An array nums is monotone decreasing if for all i <= j, nums[i] >= nums[j]. Given an integer array nums, return true if the given array is monotonic, or false otherwise.\n",
    "Example 1: Input: nums = [1,2,2,3] Output: true"
   ]
  },
  {
   "cell_type": "code",
   "execution_count": 7,
   "id": "ecc2fed9",
   "metadata": {},
   "outputs": [
    {
     "name": "stdout",
     "output_type": "stream",
     "text": [
      "True\n"
     ]
    }
   ],
   "source": [
    "def isMonotonic(nums):\n",
    "    isIncreasing = True\n",
    "    isDecreasing = True\n",
    "    \n",
    "    for i in range(1, len(nums)):\n",
    "        if nums[i] < nums[i - 1]:\n",
    "            isIncreasing = False\n",
    "        if nums[i] > nums[i - 1]:\n",
    "            isDecreasing = False\n",
    "    \n",
    "    return isIncreasing or isDecreasing\n",
    "nums = [1, 2, 2, 3]\n",
    "print(isMonotonic(nums))  # Output: True"
   ]
  },
  {
   "cell_type": "markdown",
   "id": "417a3c95",
   "metadata": {},
   "source": [
    "Q8. You are given an integer array nums and an integer k. In one operation, you can choose any index i where 0 <= i < nums.length and change nums[i] to nums[i] + x where x is an integer from the range [-k, k]. You can apply this operation at most once for each index i. The score of nums is the difference between the maximum and minimum elements in nums. Return the minimum score of nums after applying the mentioned operation at most once for each index in it.\n",
    "Example 1: Input: nums = [1], k = 0 Output: 0\n",
    "\n",
    "Explanation: The score is max(nums) - min(nums) = 1 - 1 = 0."
   ]
  },
  {
   "cell_type": "code",
   "execution_count": 8,
   "id": "7db66f0a",
   "metadata": {},
   "outputs": [
    {
     "name": "stdout",
     "output_type": "stream",
     "text": [
      "0\n"
     ]
    }
   ],
   "source": [
    "def minimumScore(nums, k):\n",
    "    minVal = min(nums)\n",
    "    maxVal = max(nums)\n",
    "    \n",
    "    if k >= maxVal - minVal:\n",
    "        return 0\n",
    "    \n",
    "    target = (minVal + maxVal) / 2\n",
    "    \n",
    "    for i in range(len(nums)):\n",
    "        if nums[i] < target:\n",
    "            nums[i] = minVal + k if target - nums[i] <= k else target\n",
    "        else:\n",
    "            nums[i] = maxVal - k if nums[i] - target <= k else target\n",
    "    \n",
    "    return max(nums) - min(nums)\n",
    "nums = [1]\n",
    "k = 0\n",
    "print(minimumScore(nums, k))  # Output: 0"
   ]
  }
 ],
 "metadata": {
  "kernelspec": {
   "display_name": "Python 3 (ipykernel)",
   "language": "python",
   "name": "python3"
  },
  "language_info": {
   "codemirror_mode": {
    "name": "ipython",
    "version": 3
   },
   "file_extension": ".py",
   "mimetype": "text/x-python",
   "name": "python",
   "nbconvert_exporter": "python",
   "pygments_lexer": "ipython3",
   "version": "3.9.7"
  }
 },
 "nbformat": 4,
 "nbformat_minor": 5
}
